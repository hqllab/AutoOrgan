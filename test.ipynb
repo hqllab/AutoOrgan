{
 "cells": [
  {
   "cell_type": "code",
   "execution_count": 1,
   "id": "d3d087f9",
   "metadata": {},
   "outputs": [],
   "source": [
    "import torch\n",
    "import cupy as cp\n",
    "import numpy as np\n",
    "import onnxruntime "
   ]
  },
  {
   "cell_type": "code",
   "execution_count": 1,
   "id": "f5ee8575",
   "metadata": {},
   "outputs": [
    {
     "name": "stdout",
     "output_type": "stream",
     "text": [
      "ONNX Runtime 版本: 1.22.0\n",
      "支持的 Execution Providers: ['TensorrtExecutionProvider', 'CUDAExecutionProvider', 'CPUExecutionProvider']\n"
     ]
    }
   ],
   "source": [
    "import onnxruntime as ort\n",
    "\n",
    "# 查看 ONNX Runtime 的版本信息\n",
    "print(\"ONNX Runtime 版本:\", ort.__version__)\n",
    "\n",
    "# 查看当前支持的执行设备\n",
    "print(\"支持的 Execution Providers:\", ort.get_available_providers())"
   ]
  },
  {
   "cell_type": "code",
   "execution_count": 11,
   "id": "f4b3ab45",
   "metadata": {},
   "outputs": [],
   "source": [
    "test_data = cp.ones((1000,1000,1000))"
   ]
  },
  {
   "cell_type": "code",
   "execution_count": 15,
   "id": "94c226a5",
   "metadata": {},
   "outputs": [
    {
     "name": "stdout",
     "output_type": "stream",
     "text": [
      "Total allocated: 8000000000\n",
      "Free blocks: 8000000000\n",
      "Used bytes: 0\n"
     ]
    }
   ],
   "source": [
    "mp = cp.get_default_memory_pool()\n",
    "\n",
    "# 查看当前显存使用情况\n",
    "print(\"Total allocated:\", mp.total_bytes())     # 总共分配的显存\n",
    "print(\"Free blocks:\", mp.free_bytes())          # 当前可释放的显存块\n",
    "print(\"Used bytes:\", mp.used_bytes())  "
   ]
  },
  {
   "cell_type": "code",
   "execution_count": 16,
   "id": "4caf791f",
   "metadata": {},
   "outputs": [],
   "source": [
    "# del test_data\n",
    "cp.get_default_memory_pool().free_all_blocks()"
   ]
  },
  {
   "cell_type": "code",
   "execution_count": 24,
   "id": "88c83b0f",
   "metadata": {},
   "outputs": [
    {
     "name": "stdout",
     "output_type": "stream",
     "text": [
      "False\n",
      "绝对值差之和: 0.6221871010700684\n"
     ]
    }
   ],
   "source": [
    "a = np.load('/home/wangnannan/workdir/AutoOrgan/cpu.npy')\n",
    "b = np.load('/home/wangnannan/workdir/AutoOrgan/gpu.npy')\n",
    "\n",
    "result = np.array_equal(a, b)\n",
    "print(result)  # 输出: True\n",
    "abs_diff_sum = np.sum(np.abs(a - b))\n",
    "\n",
    "print(\"绝对值差之和:\", abs_diff_sum)"
   ]
  },
  {
   "cell_type": "code",
   "execution_count": null,
   "id": "4fb66085",
   "metadata": {},
   "outputs": [],
   "source": [
    "from pathlib import Path\n",
    "\n",
    "# 设置文件夹路径\n",
    "folder_a = Path(\"/home/wangnannan/workdir/AutoOrgan/cpu\")\n",
    "folder_b = Path(\"/home/wangnannan/workdir/AutoOrgan/gpu\")\n",
    "\n",
    "# 获取所有文件并排序（确保顺序一致）\n",
    "files_a = sorted(folder_a.glob(\"*\"))  # 可以指定后缀如 \"*.txt\"\n",
    "files_b = sorted(folder_b.glob(\"*\"))\n",
    "\n",
    "# 确保数量一致\n",
    "assert len(files_a) == len(files_b), \"两个文件夹中的文件数量不一致\"\n",
    "\n",
    "# 配对\n",
    "paired = list(zip(files_a, files_b))\n",
    "\n",
    "# 打印结果\n",
    "for f1, f2 in paired:\n",
    "    a = np.load(f1)\n",
    "    b = np.load(f2)\n",
    "\n",
    "    result = np.array_equal(a, b)\n",
    "    print(result)  # 输出: True\n",
    "    abs_diff_sum = np.sum(np.abs(a - b))\n",
    "\n",
    "    print(\"绝对值差之和:\", abs_diff_sum)"
   ]
  },
  {
   "cell_type": "code",
   "execution_count": 2,
   "id": "566d16d4",
   "metadata": {},
   "outputs": [
    {
     "name": "stdout",
     "output_type": "stream",
     "text": [
      "GPU 0 可用\n"
     ]
    }
   ],
   "source": [
    "import cupy as cp\n",
    "\n",
    "try:\n",
    "    with cp.cuda.Device(0):\n",
    "        print(\"GPU 0 可用\")\n",
    "except cp.cuda.runtime.CudaRuntimeError as e:\n",
    "    if \"invalid device\" in str(e):\n",
    "        print(\"指定的 GPU 不可用\")\n",
    "    else:\n",
    "        print(\"其他 CUDA 错误：\", str(e))"
   ]
  }
 ],
 "metadata": {
  "kernelspec": {
   "display_name": "AutoOrgan",
   "language": "python",
   "name": "python3"
  },
  "language_info": {
   "codemirror_mode": {
    "name": "ipython",
    "version": 3
   },
   "file_extension": ".py",
   "mimetype": "text/x-python",
   "name": "python",
   "nbconvert_exporter": "python",
   "pygments_lexer": "ipython3",
   "version": "3.12.11"
  }
 },
 "nbformat": 4,
 "nbformat_minor": 5
}
