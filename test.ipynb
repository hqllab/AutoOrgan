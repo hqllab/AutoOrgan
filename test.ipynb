{
 "cells": [
  {
   "cell_type": "code",
   "execution_count": 19,
   "id": "d3d087f9",
   "metadata": {},
   "outputs": [],
   "source": [
    "import torch\n",
    "import cupy as cp\n",
    "import numpy as np\n",
    "import onnxruntime \n"
   ]
  },
  {
   "cell_type": "code",
   "execution_count": 24,
   "id": "88c83b0f",
   "metadata": {},
   "outputs": [
    {
     "name": "stdout",
     "output_type": "stream",
     "text": [
      "False\n",
      "绝对值差之和: 0.6221871010700684\n"
     ]
    }
   ],
   "source": [
    "a = np.load('/home/wangnannan/workdir/AutoOrgan/cpu.npy')\n",
    "b = np.load('/home/wangnannan/workdir/AutoOrgan/gpu.npy')\n",
    "\n",
    "result = np.array_equal(a, b)\n",
    "print(result)  # 输出: True\n",
    "abs_diff_sum = np.sum(np.abs(a - b))\n",
    "\n",
    "print(\"绝对值差之和:\", abs_diff_sum)"
   ]
  },
  {
   "cell_type": "code",
   "execution_count": null,
   "id": "4fb66085",
   "metadata": {},
   "outputs": [],
   "source": [
    "from pathlib import Path\n",
    "\n",
    "# 设置文件夹路径\n",
    "folder_a = Path(\"/home/wangnannan/workdir/AutoOrgan/cpu\")\n",
    "folder_b = Path(\"/home/wangnannan/workdir/AutoOrgan/gpu\")\n",
    "\n",
    "# 获取所有文件并排序（确保顺序一致）\n",
    "files_a = sorted(folder_a.glob(\"*\"))  # 可以指定后缀如 \"*.txt\"\n",
    "files_b = sorted(folder_b.glob(\"*\"))\n",
    "\n",
    "# 确保数量一致\n",
    "assert len(files_a) == len(files_b), \"两个文件夹中的文件数量不一致\"\n",
    "\n",
    "# 配对\n",
    "paired = list(zip(files_a, files_b))\n",
    "\n",
    "# 打印结果\n",
    "for f1, f2 in paired:\n",
    "    a = np.load(f1)\n",
    "    b = np.load(f2)\n",
    "\n",
    "    result = np.array_equal(a, b)\n",
    "    print(result)  # 输出: True\n",
    "    abs_diff_sum = np.sum(np.abs(a - b))\n",
    "\n",
    "    print(\"绝对值差之和:\", abs_diff_sum)"
   ]
  },
  {
   "cell_type": "code",
   "execution_count": 1,
   "id": "566d16d4",
   "metadata": {},
   "outputs": [
    {
     "name": "stdout",
     "output_type": "stream",
     "text": [
      "Shape: (2, 3, 4)\n",
      "Array:\n",
      " [[[ 0  1  2  3]\n",
      "  [ 4  5  6  7]\n",
      "  [ 8  9 10 11]]\n",
      "\n",
      " [[12 13 14 15]\n",
      "  [16 17 18 19]\n",
      "  [20 21 22 23]]]\n",
      "x[0,1,2] = 6\n",
      "x[1,2,3] = 23\n"
     ]
    }
   ],
   "source": [
    "import cupy as cp\n",
    "\n",
    "x = cp.arange(24).reshape((2, 3, 4))\n",
    "\n",
    "print(\"Shape:\", x.shape)\n",
    "print(\"Array:\\n\", x)\n",
    "\n",
    "# 测试某个切片\n",
    "print(\"x[0,1,2] =\", x[0,1,2].item())  # 应该是 6\n",
    "print(\"x[1,2,3] =\", x[1,2,3].item())  # 应该是 23"
   ]
  }
 ],
 "metadata": {
  "kernelspec": {
   "display_name": "torch12",
   "language": "python",
   "name": "python3"
  },
  "language_info": {
   "codemirror_mode": {
    "name": "ipython",
    "version": 3
   },
   "file_extension": ".py",
   "mimetype": "text/x-python",
   "name": "python",
   "nbconvert_exporter": "python",
   "pygments_lexer": "ipython3",
   "version": "3.12.9"
  }
 },
 "nbformat": 4,
 "nbformat_minor": 5
}
